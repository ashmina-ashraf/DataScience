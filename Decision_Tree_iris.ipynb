{
  "nbformat": 4,
  "nbformat_minor": 0,
  "metadata": {
    "colab": {
      "name": "Decision_Tree.ipynb",
      "provenance": [],
      "include_colab_link": true
    },
    "kernelspec": {
      "name": "python3",
      "display_name": "Python 3"
    },
    "language_info": {
      "name": "python"
    }
  },
  "cells": [
    {
      "cell_type": "markdown",
      "metadata": {
        "id": "view-in-github",
        "colab_type": "text"
      },
      "source": [
        "<a href=\"https://colab.research.google.com/github/ashmina-ashraf/DataScience/blob/main/Decision_Tree_iris.ipynb\" target=\"_parent\"><img src=\"https://colab.research.google.com/assets/colab-badge.svg\" alt=\"Open In Colab\"/></a>"
      ]
    },
    {
      "cell_type": "code",
      "execution_count": 16,
      "metadata": {
        "id": "BBwnKvu2cFWp"
      },
      "outputs": [],
      "source": [
        "import numpy as np\n",
        "import pandas as pd\n",
        "from sklearn.metrics import confusion_matrix\n",
        "from sklearn.model_selection import train_test_split\n",
        "from sklearn.metrics import accuracy_score\n",
        "from sklearn.datasets import load_iris"
      ]
    },
    {
      "cell_type": "code",
      "source": [
        "a = load_iris()\n",
        "x = a.data\n",
        "y = a.target"
      ],
      "metadata": {
        "id": "5w1A__FteliT"
      },
      "execution_count": 17,
      "outputs": []
    },
    {
      "cell_type": "code",
      "source": [
        "x_train, x_test, y_train, y_test = (train_test_split(x, y, test_size = 1/3, random_state=0))\n",
        "from sklearn.tree import DecisionTreeClassifier\n",
        "clfr = DecisionTreeClassifier()\n",
        "clfr.fit(x_train, y_train)"
      ],
      "metadata": {
        "id": "YgtC7GWefy9o",
        "colab": {
          "base_uri": "https://localhost:8080/"
        },
        "outputId": "25d05b86-e87f-4961-c23b-3da2931a5d17"
      },
      "execution_count": 18,
      "outputs": [
        {
          "output_type": "execute_result",
          "data": {
            "text/plain": [
              "DecisionTreeClassifier()"
            ]
          },
          "metadata": {},
          "execution_count": 18
        }
      ]
    },
    {
      "cell_type": "code",
      "source": [
        "train = clfr.predict(x_train)\n",
        "test = clfr.predict(x_test)\n",
        "print(\"Train Accuracy:\",accuracy_score(y_true=y_train,y_pred=train))\n",
        "print(\"Test Accuracy:\", accuracy_score(y_true= y_test, y_pred= test))"
      ],
      "metadata": {
        "colab": {
          "base_uri": "https://localhost:8080/"
        },
        "id": "cHmSoHhaikzI",
        "outputId": "40e02b7a-455d-444b-bd88-c53f7154500a"
      },
      "execution_count": 22,
      "outputs": [
        {
          "output_type": "stream",
          "name": "stdout",
          "text": [
            "Train Accuracy: 1.0\n",
            "Test Accuracy: 0.96\n"
          ]
        }
      ]
    }
  ]
}