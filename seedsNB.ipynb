{
  "nbformat": 4,
  "nbformat_minor": 0,
  "metadata": {
    "colab": {
      "name": "seedsNB.ipynb",
      "provenance": [],
      "authorship_tag": "ABX9TyNrc8V1N2g0wVloiC2hfGFb",
      "include_colab_link": true
    },
    "kernelspec": {
      "name": "python3",
      "display_name": "Python 3"
    },
    "language_info": {
      "name": "python"
    }
  },
  "cells": [
    {
      "cell_type": "markdown",
      "metadata": {
        "id": "view-in-github",
        "colab_type": "text"
      },
      "source": [
        "<a href=\"https://colab.research.google.com/github/ashmina-ashraf/DataScience/blob/main/seedsNB.ipynb\" target=\"_parent\"><img src=\"https://colab.research.google.com/assets/colab-badge.svg\" alt=\"Open In Colab\"/></a>"
      ]
    },
    {
      "cell_type": "code",
      "execution_count": 1,
      "metadata": {
        "id": "XO-gR63ifxlz"
      },
      "outputs": [],
      "source": [
        "import numpy as np\n",
        "import pandas as pd\n",
        "from sklearn.naive_bayes  import GaussianNB\n",
        "from sklearn.model_selection import train_test_split\n",
        "from sklearn import metrics"
      ]
    },
    {
      "cell_type": "code",
      "source": [
        "df = pd.read_csv('/content/seeds.csv')\n",
        "#df.head()"
      ],
      "metadata": {
        "id": "eCqDJJ25hkeG"
      },
      "execution_count": null,
      "outputs": []
    },
    {
      "cell_type": "code",
      "source": [
        "x = df.iloc[:, :-1]\n",
        "y = df.iloc[:,-1]"
      ],
      "metadata": {
        "id": "-oRD2BDKjx2H"
      },
      "execution_count": 29,
      "outputs": []
    },
    {
      "cell_type": "code",
      "source": [
        "x_train, x_test, y_train, y_test = train_test_split(x, y, test_size=0.40, random_state=None)"
      ],
      "metadata": {
        "id": "cAArIuiIk1IF"
      },
      "execution_count": 22,
      "outputs": []
    },
    {
      "cell_type": "code",
      "source": [
        "gnb = GaussianNB()\n",
        "gnb.fit(x_train, y_train)\n"
      ],
      "metadata": {
        "id": "19urUcEaliG6"
      },
      "execution_count": null,
      "outputs": []
    },
    {
      "cell_type": "code",
      "source": [
        "y_pred = gnb.predict(x_test)\n",
        "y_pred"
      ],
      "metadata": {
        "colab": {
          "base_uri": "https://localhost:8080/"
        },
        "id": "FRI7aD-Al3Mn",
        "outputId": "ba788248-6120-4b37-d054-db7dd73b503c"
      },
      "execution_count": 30,
      "outputs": [
        {
          "output_type": "execute_result",
          "data": {
            "text/plain": [
              "array([1, 3, 3, 2, 1, 2, 1, 1, 2, 1, 3, 2, 2, 3, 1, 1, 2, 1, 2, 1, 1, 3,\n",
              "       3, 3, 2, 2, 1, 3, 1, 3, 3, 1, 1, 2, 2, 1, 1, 2, 2, 2, 3, 2, 1, 2,\n",
              "       3, 3, 1, 3, 1, 1, 2, 2, 3, 2, 3, 3, 2, 3, 2, 1, 1, 2, 1, 3, 2, 3,\n",
              "       1, 3, 3, 3, 3, 1, 1, 3, 3, 2, 2, 3, 2, 2, 1, 1, 2, 2])"
            ]
          },
          "metadata": {},
          "execution_count": 30
        }
      ]
    },
    {
      "cell_type": "code",
      "source": [
        "print(metrics.accuracy_score(y_test, y_pred))"
      ],
      "metadata": {
        "colab": {
          "base_uri": "https://localhost:8080/"
        },
        "id": "9fbCMklhmy3F",
        "outputId": "55cc4c6d-2a36-429a-8e77-3187b4669d5c"
      },
      "execution_count": 31,
      "outputs": [
        {
          "output_type": "stream",
          "name": "stdout",
          "text": [
            "0.9047619047619048\n"
          ]
        }
      ]
    },
    {
      "cell_type": "code",
      "source": [
        "print(metrics.confusion_matrix(y_test, y_pred))"
      ],
      "metadata": {
        "colab": {
          "base_uri": "https://localhost:8080/"
        },
        "id": "5QbhERYNn_qL",
        "outputId": "3b348e94-20c2-42be-f3cf-9a1e3fcc88df"
      },
      "execution_count": 32,
      "outputs": [
        {
          "output_type": "stream",
          "name": "stdout",
          "text": [
            "[[26  2  4]\n",
            " [ 0 27  0]\n",
            " [ 2  0 23]]\n"
          ]
        }
      ]
    }
  ]
}