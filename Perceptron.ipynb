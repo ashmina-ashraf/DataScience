{
  "nbformat": 4,
  "nbformat_minor": 0,
  "metadata": {
    "colab": {
      "name": "Untitled15.ipynb",
      "provenance": [],
      "authorship_tag": "ABX9TyOr3FeVDm6wFs5XsfPg+p92",
      "include_colab_link": true
    },
    "kernelspec": {
      "name": "python3",
      "display_name": "Python 3"
    },
    "language_info": {
      "name": "python"
    }
  },
  "cells": [
    {
      "cell_type": "markdown",
      "metadata": {
        "id": "view-in-github",
        "colab_type": "text"
      },
      "source": [
        "<a href=\"https://colab.research.google.com/github/ashmina-ashraf/DataScience/blob/main/Perceptron.ipynb\" target=\"_parent\"><img src=\"https://colab.research.google.com/assets/colab-badge.svg\" alt=\"Open In Colab\"/></a>"
      ]
    },
    {
      "cell_type": "markdown",
      "metadata": {
        "id": "q326XNShphcC"
      },
      "source": [
        "1. Implement perceptron"
      ]
    },
    {
      "cell_type": "code",
      "metadata": {
        "colab": {
          "base_uri": "https://localhost:8080/"
        },
        "id": "glXn3iE2n56_",
        "outputId": "5f226524-a303-48c6-88ff-54f62024dcea"
      },
      "source": [
        "from sklearn.linear_model import Perceptron\n",
        "\n",
        "x = [(1,0),(0,0),(2,0)]\n",
        "y = [\"boy\", \"girl\", \"boy\"]\n",
        "\n",
        "ML = Perceptron()\n",
        "ML = ML.fit(x, y)\n",
        "pred = ML.predict([(1,0),(0,0)])\n",
        "print(pred)"
      ],
      "execution_count": 2,
      "outputs": [
        {
          "output_type": "stream",
          "name": "stdout",
          "text": [
            "['boy' 'girl']\n"
          ]
        }
      ]
    },
    {
      "cell_type": "markdown",
      "metadata": {
        "id": "l-c9Ovy4pl6Z"
      },
      "source": [
        "2. Implement multilayer perceptron"
      ]
    },
    {
      "cell_type": "code",
      "metadata": {
        "colab": {
          "base_uri": "https://localhost:8080/"
        },
        "id": "eVVl3lmbprNA",
        "outputId": "9b5a42b2-cfa3-4aeb-c8fb-beb3bfc3be76"
      },
      "source": [
        "from sklearn.neural_network import MLPClassifier\n",
        "x = [[1,0],[1,1],[2,0]]\n",
        "y = [\"boy\", \"girl\", \"boy\"]\n",
        "\n",
        "ML1 = MLPClassifier(hidden_layer_sizes=(10), activation= 'relu')\n",
        "ML1.fit(x,y)\n",
        "\n",
        "prediction = ML1.predict([[1,0],[1,1]])\n",
        "print(prediction)"
      ],
      "execution_count": 7,
      "outputs": [
        {
          "output_type": "stream",
          "name": "stdout",
          "text": [
            "['boy' 'girl']\n"
          ]
        },
        {
          "output_type": "stream",
          "name": "stderr",
          "text": [
            "/usr/local/lib/python3.7/dist-packages/sklearn/neural_network/_multilayer_perceptron.py:696: ConvergenceWarning: Stochastic Optimizer: Maximum iterations (200) reached and the optimization hasn't converged yet.\n",
            "  ConvergenceWarning,\n"
          ]
        }
      ]
    }
  ]
}