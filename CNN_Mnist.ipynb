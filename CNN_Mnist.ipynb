{
  "nbformat": 4,
  "nbformat_minor": 0,
  "metadata": {
    "colab": {
      "name": "CNN_Mnist.ipynb",
      "provenance": [],
      "authorship_tag": "ABX9TyMPTaQEslZXbmt39XeJXywi",
      "include_colab_link": true
    },
    "kernelspec": {
      "name": "python3",
      "display_name": "Python 3"
    },
    "language_info": {
      "name": "python"
    }
  },
  "cells": [
    {
      "cell_type": "markdown",
      "metadata": {
        "id": "view-in-github",
        "colab_type": "text"
      },
      "source": [
        "<a href=\"https://colab.research.google.com/github/ashmina-ashraf/DataScience/blob/main/CNN_Mnist.ipynb\" target=\"_parent\"><img src=\"https://colab.research.google.com/assets/colab-badge.svg\" alt=\"Open In Colab\"/></a>"
      ]
    },
    {
      "cell_type": "code",
      "execution_count": 41,
      "metadata": {
        "id": "qFBcM-yw941d"
      },
      "outputs": [],
      "source": [
        "from tensorflow import keras"
      ]
    },
    {
      "cell_type": "code",
      "source": [
        "mnistDB = keras.datasets.mnist"
      ],
      "metadata": {
        "id": "qRYyUxh_-VpB"
      },
      "execution_count": 31,
      "outputs": []
    },
    {
      "cell_type": "code",
      "source": [
        "(x_train, y_train), (x_test, y_test) = mnistDB.load_data()"
      ],
      "metadata": {
        "id": "MamvonVH-bwY"
      },
      "execution_count": 32,
      "outputs": []
    },
    {
      "cell_type": "code",
      "source": [
        "import matplotlib.pyplot as plt\n",
        "plt.imshow(x_train[5], cmap='binary')"
      ],
      "metadata": {
        "id": "8sdoUq9h-olz"
      },
      "execution_count": null,
      "outputs": []
    },
    {
      "cell_type": "code",
      "source": [
        "x_train = x_train.reshape((60000,28,28,1))\n",
        "x_test = x_test.reshape((10000,28,28,1))"
      ],
      "metadata": {
        "id": "72q0wGIO_CTH"
      },
      "execution_count": 34,
      "outputs": []
    },
    {
      "cell_type": "code",
      "source": [
        "x_train = x_train.astype('float32')/255\n",
        "x_test = x_test.astype('float32')/255"
      ],
      "metadata": {
        "id": "GThhyifS_vV3"
      },
      "execution_count": 35,
      "outputs": []
    },
    {
      "cell_type": "code",
      "source": [
        "#CNN Part\n",
        "cnnModel_MNIST = keras.models.Sequential()"
      ],
      "metadata": {
        "id": "0KqgZO6G_9Fh"
      },
      "execution_count": 36,
      "outputs": []
    },
    {
      "cell_type": "code",
      "source": [
        "#CNN input conv1\n",
        "cnnModel_MNIST.add(keras.layers.Conv2D(32, (3,3), activation='relu', input_shape=x_train.shape[1:]))"
      ],
      "metadata": {
        "id": "qdIj_eV6AFR0"
      },
      "execution_count": 37,
      "outputs": []
    },
    {
      "cell_type": "code",
      "source": [
        "#CNN input conv2\n",
        "cnnModel_MNIST.add(keras.layers.Conv2D(64, (3,3), activation = 'relu'))\n",
        "cnnModel_MNIST.add(keras.layers.MaxPooling2D((2,2)))\n",
        "cnnModel_MNIST.add(keras.layers.Dropout(0.25))\n",
        "cnnModel_MNIST.add(keras.layers.Flatten())\n",
        "cnnModel_MNIST.add(keras.layers.Dense(128, activation='relu'))\n",
        "cnnModel_MNIST.add(keras.layers.Dropout(0.25))\n",
        "cnnModel_MNIST.add(keras.layers.Dense(10, activation='softmax'))\n",
        "cnnModel_MNIST.summary()"
      ],
      "metadata": {
        "colab": {
          "base_uri": "https://localhost:8080/"
        },
        "id": "rClSoGopAjd8",
        "outputId": "5c3338e8-f744-4040-95b6-506debd8c246"
      },
      "execution_count": 38,
      "outputs": [
        {
          "output_type": "stream",
          "name": "stdout",
          "text": [
            "Model: \"sequential_1\"\n",
            "_________________________________________________________________\n",
            " Layer (type)                Output Shape              Param #   \n",
            "=================================================================\n",
            " conv2d_3 (Conv2D)           (None, 26, 26, 32)        320       \n",
            "                                                                 \n",
            " conv2d_4 (Conv2D)           (None, 24, 24, 64)        18496     \n",
            "                                                                 \n",
            " max_pooling2d_1 (MaxPooling  (None, 12, 12, 64)       0         \n",
            " 2D)                                                             \n",
            "                                                                 \n",
            " dropout_2 (Dropout)         (None, 12, 12, 64)        0         \n",
            "                                                                 \n",
            " flatten_1 (Flatten)         (None, 9216)              0         \n",
            "                                                                 \n",
            " dense_2 (Dense)             (None, 128)               1179776   \n",
            "                                                                 \n",
            " dropout_3 (Dropout)         (None, 128)               0         \n",
            "                                                                 \n",
            " dense_3 (Dense)             (None, 10)                1290      \n",
            "                                                                 \n",
            "=================================================================\n",
            "Total params: 1,199,882\n",
            "Trainable params: 1,199,882\n",
            "Non-trainable params: 0\n",
            "_________________________________________________________________\n"
          ]
        }
      ]
    },
    {
      "cell_type": "code",
      "source": [
        "#compile\n",
        "cnnModel_MNIST.compile(loss='sparse_categorical_crossentropy', optimizer='adam', metrics=['accuracy'])"
      ],
      "metadata": {
        "id": "iauysQyeCWtI"
      },
      "execution_count": 39,
      "outputs": []
    },
    {
      "cell_type": "code",
      "source": [
        "#train_model\n",
        "cnnModel_MNIST.fit(x_train, y_train, epochs=1, batch_size=10)\n",
        "test_loss, test_accuracy = cnnModel_MNIST.evaluate(x_test, y_test)\n",
        "print(test_loss, test_accuracy)"
      ],
      "metadata": {
        "colab": {
          "base_uri": "https://localhost:8080/"
        },
        "id": "Z-XfxGiACu02",
        "outputId": "d9fe3a79-bbf6-4aa9-fced-318a680c312f"
      },
      "execution_count": 40,
      "outputs": [
        {
          "output_type": "stream",
          "name": "stdout",
          "text": [
            "6000/6000 [==============================] - 208s 35ms/step - loss: 0.1359 - accuracy: 0.9588\n",
            "313/313 [==============================] - 7s 22ms/step - loss: 0.0500 - accuracy: 0.9840\n",
            "0.049961842596530914 0.984000027179718\n"
          ]
        }
      ]
    }
  ]
}